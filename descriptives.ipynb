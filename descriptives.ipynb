{
 "cells": [
  {
   "cell_type": "code",
   "execution_count": 5,
   "id": "d64aecd7-6e5a-4e8d-b61d-6d762360e375",
   "metadata": {},
   "outputs": [
    {
     "name": "stdout",
     "output_type": "stream",
     "text": [
      "                 City  Model Year        Model        Make  Electric Range\n",
      "0              Yakima        2014          500        FIAT              87\n",
      "1             Olympia        2017      MODEL X       TESLA             200\n",
      "2              Renton        2023         330E         BMW              20\n",
      "3             Bothell        2023          R1S      RIVIAN               0\n",
      "4                Kent        2020      MODEL 3       TESLA             322\n",
      "5             Poulsbo        2024           X5         BMW              39\n",
      "6        Port Orchard        2018     PACIFICA    CHRYSLER              33\n",
      "7             Poulsbo        2017      BOLT EV   CHEVROLET             238\n",
      "8        Port Orchard        2018      MODEL 3       TESLA             215\n",
      "9              Duvall        2018           I3         BMW             114\n",
      "10            Olympia        2023      MODEL Y       TESLA               0\n",
      "11           Bellevue        2019         NIRO         KIA             239\n",
      "12            Seattle        2020      MODEL Y       TESLA             291\n",
      "13          Bremerton        2020       FUSION        FORD              26\n",
      "14            Seattle        2016           I3         BMW              81\n",
      "15            Seattle        2024           X5         BMW              39\n",
      "16            Poulsbo        2017  PRIUS PRIME      TOYOTA              25\n",
      "17              Selah        2016      MODEL X       TESLA             200\n",
      "18            Seattle        2020      MODEL 3       TESLA             322\n",
      "19            Poulsbo        2018         VOLT   CHEVROLET              53\n",
      "20            Poulsbo        2013         LEAF      NISSAN              75\n",
      "21         Silverdale        2022          R1T      RIVIAN               0\n",
      "22            Seattle        2019      MODEL 3       TESLA             220\n",
      "23              Brier        2020      BOLT EV   CHEVROLET             259\n",
      "24  Bainbridge Island        2020           I3         BMW             153\n",
      "25            Bothell        2020      MODEL Y       TESLA             291\n",
      "26              Lacey        2018       OPTIMA         KIA              29\n",
      "27             Yakima        2020      MODEL 3       TESLA             266\n",
      "28            Seattle        2018      MODEL 3       TESLA             215\n",
      "29            Olympia        2022           X5         BMW              30\n",
      "30             Yakima        2017      MODEL S       TESLA             210\n",
      "31            Bothell        2019      MODEL S       TESLA             270\n",
      "32             Yakima        2022      MODEL Y       TESLA               0\n",
      "33           Tumwater        2018           I3         BMW              97\n",
      "34            Edmonds        2013         VOLT   CHEVROLET              38\n",
      "35             Yakima        2023    OUTLANDER  MITSUBISHI              38\n",
      "36       Lake Stevens        2016           I3         BMW              72\n",
      "37             Tieton        2019      MODEL 3       TESLA             220\n",
      "38            Bothell        2014         VOLT   CHEVROLET              38\n",
      "39            Everett        2018      CLARITY       HONDA              47\n",
      "40              Lacey        2020         LEAF      NISSAN             149\n",
      "41            Olympia        2021         Q5 E        AUDI              18\n",
      "42             Naches        2022     WRANGLER        JEEP              22\n",
      "43         Oak Harbor        2019      BOLT EV   CHEVROLET             238\n",
      "44            Poulsbo        2018         LEAF      NISSAN             151\n",
      "45         Marysville        2020      MODEL Y       TESLA             291\n",
      "46          Shoreline        2015         LEAF      NISSAN              84\n",
      "47            Ephrata        2021     WRANGLER        JEEP              25\n",
      "48            Olympia        2016           X5         BMW              14\n",
      "49               Yelm        2015          500        FIAT              87\n"
     ]
    }
   ],
   "source": [
    "from IPython.display import display\n",
    "import pandas as pd\n",
    "import numpy as np\n",
    "dataSet = pd.read_csv('Electric_Vehicle_Population_Data (1).csv')\n",
    "#grouping/sorting the cars into groups below to analyze there relationship with \n",
    "#all the variables or properties by which they are sorted. eg. City, Make.\n",
    "groupBy = dataSet[['City', 'Model Year', 'Model', 'Make', 'Electric Range']].head(50)\n",
    "print(groupBy)"
   ]
  },
  {
   "cell_type": "code",
   "execution_count": 28,
   "id": "28fcdd64-bf7b-486a-9d3b-c3fcc5013daa",
   "metadata": {},
   "outputs": [],
   "source": [
    "#exporting the csv file for the fie applied columns\n",
    "groupBy.to_csv('groupedData.csv', index = False)"
   ]
  },
  {
   "cell_type": "code",
   "execution_count": 7,
   "id": "e5f8e328-6804-43db-9a7e-b8d0e6011ba8",
   "metadata": {},
   "outputs": [
    {
     "name": "stdout",
     "output_type": "stream",
     "text": [
      "61.51\n"
     ]
    }
   ],
   "source": [
    "#In electrice Vehicles(EVs) and plug-in hybrid electric vehicles(PHEVs),\n",
    "#Electric range refers to the distance a vehicle can travel on a single charge\n",
    "#from it's power source; it's given it MILES or KILOMETERS\n",
    "#finding the mean of the electric \n",
    "#range of the first 50 cars in the list using numpy\n",
    "mean_value =  np.mean(dataSet['Electric Range'])\n",
    "\n",
    "print(mean_value.round(2))"
   ]
  },
  {
   "cell_type": "code",
   "execution_count": 9,
   "id": "55cf0f68-935f-43c0-b48f-7dddbf320150",
   "metadata": {},
   "outputs": [],
   "source": [
    "#Determining the number of models, makes and year of different cars is our sample\n",
    "#1. Makes\n",
    "#TESLA\n",
    "#carMake = input(\"Make: \")\n",
    "# totalCount= groupBy['Make'].str.contains(carMake, case=False).sum()\n",
    "#print(totalCount)"
   ]
  },
  {
   "cell_type": "code",
   "execution_count": 29,
   "id": "eb666e39-7f40-425c-bf7f-18dfab6805ea",
   "metadata": {},
   "outputs": [
    {
     "name": "stdout",
     "output_type": "stream",
     "text": [
      "The most common car is 'TESLA' with a count of 16.\n"
     ]
    }
   ],
   "source": [
    "#Determinig the Car model with the highest count\n",
    "all_words = groupBy['Make'].str.split(expand=True).stack()\n",
    "\n",
    "# Use value_counts to count the occurrences of each word\n",
    "word_counts = all_words.value_counts()\n",
    "\n",
    "# Get the word with the highest count\n",
    "most_common = word_counts.idxmax()\n",
    "\n",
    "# Get the count of the most common word\n",
    "highest_count = word_counts.max()\n",
    "\n",
    "# Print the result\n",
    "print(f\"The most common car is '{most_common}' with a count of {highest_count}.\")"
   ]
  },
  {
   "cell_type": "code",
   "execution_count": 30,
   "id": "90c83f7d-e181-4267-baad-384554a31c59",
   "metadata": {},
   "outputs": [
    {
     "name": "stdout",
     "output_type": "stream",
     "text": [
      "The least common car is 'CHRYSLER' with a count of 1.\n"
     ]
    }
   ],
   "source": [
    "#Determinig the Car model with the highest count\n",
    "all_words = groupBy['Make'].str.split(expand=True).stack()\n",
    "\n",
    "# Use value_counts to count the occurrences of each word\n",
    "word_counts = all_words.value_counts()\n",
    "\n",
    "# Get the word with the highest count\n",
    "least_common = word_counts.idxmin()\n",
    "\n",
    "# Get the count of the most common word\n",
    "least_count = word_counts.min()\n",
    "\n",
    "# Print the result\n",
    "print(f\"The least common car is '{least_common}' with a count of {least_count}.\")\n"
   ]
  },
  {
   "cell_type": "code",
   "execution_count": 19,
   "id": "76c63917-1de7-42e1-84fd-b562123fae4f",
   "metadata": {},
   "outputs": [
    {
     "name": "stdout",
     "output_type": "stream",
     "text": [
      "15\n"
     ]
    }
   ],
   "source": [
    "#The range of Cars in our sample\n",
    "car_range = highest_count - least_count\n",
    "print (car_range)"
   ]
  },
  {
   "cell_type": "code",
   "execution_count": 32,
   "id": "a3286643-f974-4248-a939-43615afad069",
   "metadata": {},
   "outputs": [],
   "source": [
    "test_data = pd.read_csv('groupedData.csv')"
   ]
  },
  {
   "cell_type": "code",
   "execution_count": 33,
   "id": "3e524b7d-8d6b-489d-963b-c46e4c729643",
   "metadata": {},
   "outputs": [
    {
     "name": "stdout",
     "output_type": "stream",
     "text": [
      "                 City  Model Year        Model        Make  Electric Range\n",
      "0              Yakima        2014          500        FIAT              87\n",
      "1             Olympia        2017      MODEL X       TESLA             200\n",
      "2              Renton        2023         330E         BMW              20\n",
      "3             Bothell        2023          R1S      RIVIAN               0\n",
      "4                Kent        2020      MODEL 3       TESLA             322\n",
      "5             Poulsbo        2024           X5         BMW              39\n",
      "6        Port Orchard        2018     PACIFICA    CHRYSLER              33\n",
      "7             Poulsbo        2017      BOLT EV   CHEVROLET             238\n",
      "8        Port Orchard        2018      MODEL 3       TESLA             215\n",
      "9              Duvall        2018           I3         BMW             114\n",
      "10            Olympia        2023      MODEL Y       TESLA               0\n",
      "11           Bellevue        2019         NIRO         KIA             239\n",
      "12            Seattle        2020      MODEL Y       TESLA             291\n",
      "13          Bremerton        2020       FUSION        FORD              26\n",
      "14            Seattle        2016           I3         BMW              81\n",
      "15            Seattle        2024           X5         BMW              39\n",
      "16            Poulsbo        2017  PRIUS PRIME      TOYOTA              25\n",
      "17              Selah        2016      MODEL X       TESLA             200\n",
      "18            Seattle        2020      MODEL 3       TESLA             322\n",
      "19            Poulsbo        2018         VOLT   CHEVROLET              53\n",
      "20            Poulsbo        2013         LEAF      NISSAN              75\n",
      "21         Silverdale        2022          R1T      RIVIAN               0\n",
      "22            Seattle        2019      MODEL 3       TESLA             220\n",
      "23              Brier        2020      BOLT EV   CHEVROLET             259\n",
      "24  Bainbridge Island        2020           I3         BMW             153\n",
      "25            Bothell        2020      MODEL Y       TESLA             291\n",
      "26              Lacey        2018       OPTIMA         KIA              29\n",
      "27             Yakima        2020      MODEL 3       TESLA             266\n",
      "28            Seattle        2018      MODEL 3       TESLA             215\n",
      "29            Olympia        2022           X5         BMW              30\n",
      "30             Yakima        2017      MODEL S       TESLA             210\n",
      "31            Bothell        2019      MODEL S       TESLA             270\n",
      "32             Yakima        2022      MODEL Y       TESLA               0\n",
      "33           Tumwater        2018           I3         BMW              97\n",
      "34            Edmonds        2013         VOLT   CHEVROLET              38\n",
      "35             Yakima        2023    OUTLANDER  MITSUBISHI              38\n",
      "36       Lake Stevens        2016           I3         BMW              72\n",
      "37             Tieton        2019      MODEL 3       TESLA             220\n",
      "38            Bothell        2014         VOLT   CHEVROLET              38\n",
      "39            Everett        2018      CLARITY       HONDA              47\n",
      "40              Lacey        2020         LEAF      NISSAN             149\n",
      "41            Olympia        2021         Q5 E        AUDI              18\n",
      "42             Naches        2022     WRANGLER        JEEP              22\n",
      "43         Oak Harbor        2019      BOLT EV   CHEVROLET             238\n",
      "44            Poulsbo        2018         LEAF      NISSAN             151\n",
      "45         Marysville        2020      MODEL Y       TESLA             291\n",
      "46          Shoreline        2015         LEAF      NISSAN              84\n",
      "47            Ephrata        2021     WRANGLER        JEEP              25\n",
      "48            Olympia        2016           X5         BMW              14\n",
      "49               Yelm        2015          500        FIAT              87\n"
     ]
    }
   ],
   "source": [
    "print(test_data.to_string())"
   ]
  },
  {
   "cell_type": "code",
   "execution_count": 27,
   "id": "e2ffdf32-dd21-4318-99e7-0067f3d58cec",
   "metadata": {},
   "outputs": [
    {
     "name": "stdout",
     "output_type": "stream",
     "text": [
      "Empty DataFrame\n",
      "Columns: [Unnamed: 0, City, Model Year, Model, Make, Electric Range]\n",
      "Index: []\n",
      "Empty DataFrame\n",
      "Columns: [City, Model Year, Model, Make, Electric Range]\n",
      "Index: []\n"
     ]
    }
   ],
   "source": [
    "# Assuming df is your DataFrame\n",
    "# Replace 'Column_Name' with the actual column name you want to filter\n",
    "filtered_df = test_data[test_data['Make'] == 'tesla']\n",
    "\n",
    "# Print the filtered DataFrame\n",
    "print(filtered_df)\n",
    "\n",
    "\n",
    "# Assuming 'Attribute1', 'Attribute2', etc., are the columns you want to print\n",
    "selected_columns = ['City', 'Model Year', 'Model', 'Make', 'Electric Range']\n",
    "\n",
    "filtered_df = test_data[test_data['Make'] == 'tesla'][selected_columns]\n",
    "\n",
    "# Print the filtered DataFrame\n",
    "print(filtered_df)\n"
   ]
  },
  {
   "cell_type": "code",
   "execution_count": null,
   "id": "990aac3b-b61e-482e-9a94-5e77247a2fa7",
   "metadata": {},
   "outputs": [],
   "source": []
  }
 ],
 "metadata": {
  "kernelspec": {
   "display_name": "Python 3 (ipykernel)",
   "language": "python",
   "name": "python3"
  },
  "language_info": {
   "codemirror_mode": {
    "name": "ipython",
    "version": 3
   },
   "file_extension": ".py",
   "mimetype": "text/x-python",
   "name": "python",
   "nbconvert_exporter": "python",
   "pygments_lexer": "ipython3",
   "version": "3.12.0"
  }
 },
 "nbformat": 4,
 "nbformat_minor": 5
}
